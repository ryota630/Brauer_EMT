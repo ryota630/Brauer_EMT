{
 "cells": [
  {
   "cell_type": "code",
   "execution_count": null,
   "id": "389dbedc-0082-4dde-bc84-47e6c9da8fd3",
   "metadata": {},
   "outputs": [],
   "source": []
  },
  {
   "cell_type": "code",
   "execution_count": 4,
   "id": "184ff64f-b90d-4b28-b4b2-56aa84d1d0c9",
   "metadata": {},
   "outputs": [],
   "source": [
    "import numpy as np\n",
    "import BrauerEMT as Bemt"
   ]
  },
  {
   "cell_type": "code",
   "execution_count": 7,
   "id": "a88d7ad5-7dba-4c34-84b9-f4d206f00293",
   "metadata": {},
   "outputs": [],
   "source": []
  },
  {
   "cell_type": "markdown",
   "id": "f9fb72fb-6c8e-411b-ae15-43e9219b854c",
   "metadata": {},
   "source": [
    "# From index to width"
   ]
  },
  {
   "cell_type": "code",
   "execution_count": 5,
   "id": "fa8774be-60b9-4263-8e3a-4fe9042b6c52",
   "metadata": {},
   "outputs": [],
   "source": [
    "lib = Bemt.Brauer_emt()\n",
    "\n",
    "vc = 90.*1e+9    # center frequency [Hz]\n",
    "lamb = lib.c/vc  # wavelength [m]\n",
    "ns = 3.12        # refractive index\n",
    "p = 0.5*1e-3     # Pitch of structure[m]\n",
    "\n",
    "n_arr = lib.Design_index_one_to_three_layer(ns)[2]  # design refractive index based on multi-layer\n",
    "d_arr = lamb/4./n_arr                               # thickness [m]\n",
    "w_arr = lib.EMT_n_to_w(n_arr, lib.n0, ns, vc, p)    # width [m]\n"
   ]
  },
  {
   "cell_type": "markdown",
   "id": "18327fdf-0bdc-425d-8595-9bfe2e4fb03d",
   "metadata": {},
   "source": [
    "# From width to index"
   ]
  },
  {
   "cell_type": "code",
   "execution_count": 6,
   "id": "5851a09c-7980-4a86-9bc1-022f4b3c39a3",
   "metadata": {},
   "outputs": [],
   "source": [
    "lib = Bemt.Brauer_emt()\n",
    "\n",
    "vc = 90.*1e+9    # center frequency [Hz]\n",
    "lamb = lib.c/vc  # wavelength [m]\n",
    "ns = 3.12        # refractive index\n",
    "p = 0.5*1e-3     # Pitch of structure [m]\n",
    "w0 = 0.1*1e-3   # top width of structure [m]\n",
    "\n",
    "w_arr = np.linspace(w0,p,1001)      # width of pyramid [m]\n",
    "d = np.linspace(0,1500,1001)*1e-6   # depth [m]\n",
    "frac = (w_arr/p)                  # linear fraction\n",
    "n_arr = lib.EMT_twoD_SWS_to_neff(vc,lib.n0,ns,frac,frac,p,p)[1] # neff(2nd)\n",
    "\n"
   ]
  },
  {
   "cell_type": "code",
   "execution_count": null,
   "id": "40b41ffe-6a90-413d-823a-e8645ba614f4",
   "metadata": {},
   "outputs": [],
   "source": []
  },
  {
   "cell_type": "code",
   "execution_count": null,
   "id": "92d52d61-1640-4bb1-bc34-dc1ccc1463ec",
   "metadata": {},
   "outputs": [],
   "source": []
  }
 ],
 "metadata": {
  "kernelspec": {
   "display_name": "Python 3 (ipykernel)",
   "language": "python",
   "name": "python3"
  },
  "language_info": {
   "codemirror_mode": {
    "name": "ipython",
    "version": 3
   },
   "file_extension": ".py",
   "mimetype": "text/x-python",
   "name": "python",
   "nbconvert_exporter": "python",
   "pygments_lexer": "ipython3",
   "version": "3.10.9"
  }
 },
 "nbformat": 4,
 "nbformat_minor": 5
}
